{
 "cells": [
  {
   "cell_type": "code",
   "execution_count": 45,
   "metadata": {},
   "outputs": [],
   "source": [
    "# Підключення бібліотек \n",
    "import numpy as np\n",
    "import matplotlib.pyplot as plt\n",
    "from sklearn import preprocessing\n",
    "from sklearn.svm import LinearSVC, SVC\n",
    "from sklearn.multiclass import OneVsRestClassifier\n",
    "from sklearn.model_selection import train_test_split, cross_val_score"
   ]
  },
  {
   "cell_type": "code",
   "execution_count": 47,
   "metadata": {},
   "outputs": [],
   "source": [
    "# Вхідний файл, який містить дані\n",
    "input_file = 'income_data.txt'"
   ]
  },
  {
   "cell_type": "code",
   "execution_count": 49,
   "metadata": {},
   "outputs": [],
   "source": [
    "X = []\n",
    "y = []\n",
    "count_class1 = 0\n",
    "count_class2 = 0\n",
    "max_datapoints = 25000"
   ]
  },
  {
   "cell_type": "code",
   "execution_count": 51,
   "metadata": {},
   "outputs": [],
   "source": [
    "with open(input_file, 'r') as f:\n",
    "    for line in f.readlines():\n",
    "        if count_class1 >= max_datapoints and count_class2 >= max_datapoints:\n",
    "            break\n",
    "\n",
    "        if '?' in line:\n",
    "            continue\n",
    "\n",
    "        data = line[:-1].split(',')\n",
    "        # print(data)\n",
    "\n",
    "        if data[-1] == ' <=50K' and count_class1 < max_datapoints:\n",
    "            X.append(data)\n",
    "            count_class1 += 1\n",
    "\n",
    "        if data[-1] == ' >50K' and count_class2 < max_datapoints:\n",
    "            X.append(data)\n",
    "            count_class2 += 1"
   ]
  },
  {
   "cell_type": "code",
   "execution_count": 53,
   "metadata": {},
   "outputs": [],
   "source": [
    "X = np.array(X)"
   ]
  },
  {
   "cell_type": "code",
   "execution_count": 55,
   "metadata": {},
   "outputs": [],
   "source": [
    "label_encoder = []\n",
    "X_encoded = np.empty(X.shape)\n",
    "for i, item in enumerate(X[0]):\n",
    "    if item.isdigit():\n",
    "        X_encoded[:, i] = X[:, i]\n",
    "    else:\n",
    "        label_encoder.append(preprocessing.LabelEncoder())\n",
    "        X_encoded[:, i] = label_encoder[-1].fit_transform(X[:, i])\n",
    "\n",
    "X = X_encoded[:, :-1].astype(int)\n",
    "y = X_encoded[:, -1].astype(int)"
   ]
  },
  {
   "cell_type": "code",
   "execution_count": 57,
   "metadata": {},
   "outputs": [],
   "source": [
    "categories = {\n",
    "    'RBF SVM': SVC(kernel='rbf', random_state=0),\n",
    "    'Linear SVM': LinearSVC(random_state=0),\n",
    "    'Poly SVM (degree=3)': SVC(kernel='poly', degree=3, random_state=0),\n",
    "    'Sigmoid SVM': SVC(kernel='sigmoid', random_state=0)\n",
    "}"
   ]
  },
  {
   "cell_type": "code",
   "execution_count": 59,
   "metadata": {},
   "outputs": [],
   "source": [
    "from sklearn.metrics import accuracy_score, precision_score, recall_score, f1_score"
   ]
  },
  {
   "cell_type": "code",
   "execution_count": 63,
   "metadata": {},
   "outputs": [
    {
     "name": "stdout",
     "output_type": "stream",
     "text": [
      "\n",
      "Класифікатори SVM: RBF SVM\n",
      "Акуратність: 74.64%\n",
      "Точність: 55.71%\n",
      "Повнота: 74.64%\n",
      "F1: 63.80%\n",
      "----------------------------------------\n",
      "\n",
      "Класифікатори SVM: Linear SVM\n"
     ]
    },
    {
     "name": "stderr",
     "output_type": "stream",
     "text": [
      "C:\\Users\\Admin\\anaconda3\\Lib\\site-packages\\sklearn\\svm\\_classes.py:31: FutureWarning: The default value of `dual` will change from `True` to `'auto'` in 1.5. Set the value of `dual` explicitly to suppress the warning.\n",
      "  warnings.warn(\n",
      "C:\\Users\\Admin\\anaconda3\\Lib\\site-packages\\sklearn\\svm\\_base.py:1237: ConvergenceWarning: Liblinear failed to converge, increase the number of iterations.\n",
      "  warnings.warn(\n"
     ]
    },
    {
     "name": "stdout",
     "output_type": "stream",
     "text": [
      "Акуратність: 78.30%\n",
      "Точність: 77.13%\n",
      "Повнота: 78.30%\n",
      "F1: 73.93%\n",
      "----------------------------------------\n",
      "\n",
      "Класифікатори SVM: Poly SVM (degree=3)\n",
      "Акуратність: 74.64%\n",
      "Точність: 55.71%\n",
      "Повнота: 74.64%\n",
      "F1: 63.80%\n",
      "----------------------------------------\n",
      "\n",
      "Класифікатори SVM: Sigmoid SVM\n",
      "Акуратність: 63.82%\n",
      "Точність: 63.56%\n",
      "Повнота: 63.82%\n",
      "F1: 63.68%\n",
      "----------------------------------------\n"
     ]
    }
   ],
   "source": [
    "for categor in categories.items():\n",
    "    print(f'\\nКласифікатори SVM: {categor[0]}')\n",
    "    clf = OneVsRestClassifier(categor[1])\n",
    "    X_train, X_test, y_train, y_test = train_test_split(X, y, test_size=0.2, random_state=42)\n",
    "    clf.fit(X_train, y_train)\n",
    "    y_test_pred = clf.predict(X_test)\n",
    "    \n",
    "    accuracy = accuracy_score(y_test, y_test_pred)\n",
    "    precision = precision_score(y_test, y_test_pred, average='weighted', zero_division=0)\n",
    "    recall = recall_score(y_test, y_test_pred, average='weighted')\n",
    "    f1 = f1_score(y_test, y_test_pred, average='weighted')\n",
    "\n",
    "    print(f'Акуратність: {accuracy*100:.2f}%')\n",
    "    print(f'Точність: {precision*100:.2f}%')\n",
    "    print(f'Повнота: {recall*100:.2f}%')\n",
    "    print(f'F1: {f1*100:.2f}%')\n",
    "    print('-' * 40)"
   ]
  },
  {
   "cell_type": "code",
   "execution_count": 65,
   "metadata": {},
   "outputs": [],
   "source": [
    "input_data = ['37', ' Private', ' 215646', ' HS-grad', ' 9', ' Never-married', ' Handlers-cleaners', ' Not-in-family', ' White', ' Male', ' 0', ' 0', ' 40', ' United-States']\n"
   ]
  },
  {
   "cell_type": "code",
   "execution_count": 67,
   "metadata": {},
   "outputs": [],
   "source": [
    "input_data_encoded = [-1] * len(input_data)\n",
    "count = 0\n",
    "for i, item in enumerate(input_data):\n",
    "    if item.isdigit():\n",
    "        input_data_encoded[i] = int(item)\n",
    "    else:\n",
    "        input_data_encoded[i] = label_encoder[count].transform([item])[0]\n",
    "        count += 1\n",
    "\n",
    "input_data_encoded = np.array(input_data_encoded).reshape(1, -1)"
   ]
  },
  {
   "cell_type": "code",
   "execution_count": 69,
   "metadata": {},
   "outputs": [
    {
     "name": "stdout",
     "output_type": "stream",
     "text": [
      "\n",
      "Класифікатори SVM: SVC\n",
      " <=50K\n",
      "----------------------------------------\n",
      "\n",
      "Класифікатори SVM: LinearSVC\n"
     ]
    },
    {
     "name": "stderr",
     "output_type": "stream",
     "text": [
      "C:\\Users\\Admin\\anaconda3\\Lib\\site-packages\\sklearn\\svm\\_classes.py:31: FutureWarning: The default value of `dual` will change from `True` to `'auto'` in 1.5. Set the value of `dual` explicitly to suppress the warning.\n",
      "  warnings.warn(\n",
      "C:\\Users\\Admin\\anaconda3\\Lib\\site-packages\\sklearn\\svm\\_base.py:1237: ConvergenceWarning: Liblinear failed to converge, increase the number of iterations.\n",
      "  warnings.warn(\n"
     ]
    },
    {
     "name": "stdout",
     "output_type": "stream",
     "text": [
      " <=50K\n",
      "----------------------------------------\n",
      "\n",
      "Класифікатори SVM: SVC\n",
      " <=50K\n",
      "----------------------------------------\n",
      "\n",
      "Класифікатори SVM: SVC\n",
      " <=50K\n",
      "----------------------------------------\n"
     ]
    }
   ],
   "source": [
    "for categor in categories.values():\n",
    "    print(f'\\nКласифікатори SVM: {categor.__class__.__name__}')\n",
    "    categor.fit(X, y)\n",
    "    predicted_class = categor.predict(input_data_encoded)\n",
    "    print(label_encoder[-1].inverse_transform(predicted_class)[0])\n",
    "    print('-' * 40)"
   ]
  },
  {
   "cell_type": "code",
   "execution_count": 71,
   "metadata": {},
   "outputs": [],
   "source": [
    "import matplotlib.pyplot as plt\n",
    "import seaborn as sns\n",
    "from sklearn.model_selection import cross_val_score, StratifiedKFold\n",
    "from sklearn.multiclass import OneVsRestClassifier\n",
    "from sklearn.linear_model import LogisticRegression\n",
    "from sklearn.tree import DecisionTreeClassifier\n",
    "from sklearn.neighbors import KNeighborsClassifier\n",
    "from sklearn.discriminant_analysis import LinearDiscriminantAnalysis\n",
    "from sklearn.naive_bayes import GaussianNB"
   ]
  },
  {
   "cell_type": "code",
   "execution_count": 73,
   "metadata": {},
   "outputs": [],
   "source": [
    "# Список моделей\n",
    "models = {\n",
    "    'Logistic Regression': OneVsRestClassifier(LogisticRegression(solver='liblinear')),\n",
    "    'Decision Tree': DecisionTreeClassifier(random_state=0),\n",
    "    'K-Nearest Neighbors': KNeighborsClassifier(),\n",
    "    'Linear Discriminant Analysis': LinearDiscriminantAnalysis(),\n",
    "    'Gaussian Naive Bayes': GaussianNB(),\n",
    "}\n",
    "\n",
    "results = []\n",
    "names = []\n"
   ]
  },
  {
   "cell_type": "code",
   "execution_count": 75,
   "metadata": {},
   "outputs": [
    {
     "name": "stdout",
     "output_type": "stream",
     "text": [
      "Logistic Regression: 0.7789 (+/- 0.0083)\n",
      "Decision Tree: 0.7992 (+/- 0.0085)\n",
      "K-Nearest Neighbors: 0.7455 (+/- 0.0075)\n",
      "Linear Discriminant Analysis: 0.7809 (+/- 0.0060)\n",
      "Gaussian Naive Bayes: 0.7971 (+/- 0.0060)\n"
     ]
    }
   ],
   "source": [
    "# Крос-валідація і збір результатів\n",
    "for name, model in models.items():\n",
    "    kfold = StratifiedKFold(n_splits=10, shuffle=True, random_state=1)\n",
    "    cv_results = cross_val_score(model, X_train, y_train, cv=kfold, scoring='accuracy')\n",
    "    results.append(cv_results.mean())\n",
    "    names.append(name)\n",
    "    print(f\"{name}: {cv_results.mean():.4f} (+/- {cv_results.std():.4f})\")"
   ]
  },
  {
   "cell_type": "code",
   "execution_count": 77,
   "metadata": {},
   "outputs": [
    {
     "name": "stderr",
     "output_type": "stream",
     "text": [
      "C:\\Users\\Admin\\AppData\\Local\\Temp\\ipykernel_5180\\652785093.py:3: FutureWarning: \n",
      "\n",
      "Passing `palette` without assigning `hue` is deprecated and will be removed in v0.14.0. Assign the `y` variable to `hue` and set `legend=False` for the same effect.\n",
      "\n",
      "  sns.barplot(x=results, y=names, palette=\"viridis\")\n"
     ]
    },
    {
     "data": {
      "image/png": "[encoded data removed]",
      "text/plain": [
       "<Figure size 1000x600 with 1 Axes>"
      ]
     },
     "metadata": {},
     "output_type": "display_data"
    }
   ],
   "source": [
    "# Візуалізація результатів\n",
    "plt.figure(figsize=(10, 6))\n",
    "sns.barplot(x=results, y=names, palette=\"viridis\")\n",
    "plt.xlabel('Середня точність')\n",
    "plt.ylabel('Модель')\n",
    "plt.title('Порівняння алгоритмів класифікації (Barplot)')\n",
    "plt.xlim(0, 1)\n",
    "plt.grid(axis='x')\n",
    "plt.show()"
   ]
  },
  {
   "cell_type": "code",
   "execution_count": null,
   "metadata": {},
   "outputs": [],
   "source": []
  }
 ],
 "metadata": {
  "kernelspec": {
   "display_name": "Python 3 (ipykernel)",
   "language": "python",
   "name": "python3"
  },
  "language_info": {
   "codemirror_mode": {
    "name": "ipython",
    "version": 3
   },
   "file_extension": ".py",
   "mimetype": "text/x-python",
   "name": "python",
   "nbconvert_exporter": "python",
   "pygments_lexer": "ipython3",
   "version": "3.12.4"
  }
 },
 "nbformat": 4,
 "nbformat_minor": 4
}
